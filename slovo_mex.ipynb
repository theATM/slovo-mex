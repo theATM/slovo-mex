{
 "cells": [
  {
   "cell_type": "code",
   "execution_count": null,
   "outputs": [],
   "source": [
    "%%capture\n",
    "%run ./test_slovo_five.ipynb"
   ],
   "metadata": {
    "collapsed": false
   }
  },
  {
   "cell_type": "code",
   "execution_count": null,
   "outputs": [],
   "source": [
    "#Save for use in other notebooks:\n",
    "%store -r act_features\n",
    "%store -r act_test_features\n",
    "%store -r labels_train\n",
    "%store -r labels_test\n",
    "%store -r dc_features\n",
    "%store -r dc_test_features\n",
    "act_features = act_features\n",
    "act_test_features = act_test_features\n",
    "labels_train = labels_train -1\n",
    "labels_test  = labels_test - 1\n",
    "dc_features = dc_features\n",
    "dc_test_features = dc_test_features"
   ],
   "metadata": {
    "collapsed": false
   }
  },
  {
   "cell_type": "code",
   "execution_count": null,
   "outputs": [],
   "source": [
    "# import necessary packages\n",
    "import os\n",
    "import random\n",
    "import torch\n",
    "import requests, zipfile, sys\n",
    "import numpy as np\n",
    "import matplotlib.pyplot as plt\n",
    "from torch.utils.data import Dataset, DataLoader\n",
    "import torchvision\n",
    "from PIL import Image\n",
    "import torch\n",
    "import torch.nn as nn\n",
    "import torch.nn.functional as F\n",
    "import torch.optim as optim\n",
    "from torchvision import transforms\n",
    "torch.manual_seed(0)\n",
    "np.random.seed(0)\n",
    "random.seed(0)\n"
   ],
   "metadata": {
    "collapsed": false,
    "pycharm": {
     "name": "#%%\n"
    }
   }
  },
  {
   "cell_type": "code",
   "execution_count": null,
   "outputs": [],
   "source": [
    "\n",
    "combined_features = np.concatenate((act_features,dc_features),axis=1)\n",
    "\n",
    "combined_test_features = np.concatenate((act_test_features,dc_test_features),axis=1)"
   ],
   "metadata": {
    "collapsed": false
   }
  },
  {
   "cell_type": "code",
   "execution_count": null,
   "outputs": [],
   "source": [
    "# write the customer dataset based on the dataset\n",
    "class ADataset(Dataset):\n",
    "    \"\"\"Fashion Mnist dataset\"\"\"\n",
    "\n",
    "    def __init__(self, data, labels):\n",
    "        self.data = torch.tensor(data)#.cuda()\n",
    "        self.labels = torch.tensor(labels)#.cuda()\n",
    "\n",
    "    def __len__(self):\n",
    "        return self.data.shape[0]\n",
    "\n",
    "    def __getitem__(self, index):\n",
    "        record, label = self.data[index], self.labels[index]\n",
    "        return record, label\n",
    "\n",
    "\n",
    "g = torch.Generator()\n",
    "g.manual_seed(0)\n",
    "\n",
    "train_set = ADataset(combined_features,labels_train)\n",
    "train_loader = DataLoader(train_set, batch_size=64, shuffle=True, num_workers=4,generator=g)\n",
    "test_set = ADataset(combined_test_features,labels_test)\n",
    "test_loader = DataLoader(test_set, batch_size=64, shuffle=False, num_workers=4,generator=g)"
   ],
   "metadata": {
    "collapsed": false
   }
  },
  {
   "cell_type": "code",
   "execution_count": null,
   "outputs": [],
   "source": [
    "class Network(nn.Module): #TODO fix network\n",
    "    def __init__(self, num_classes):\n",
    "        super().__init__()\n",
    "        # define layers\n",
    "        self.fully_connected = nn.Sequential(\n",
    "            nn.Linear(74, 200,dtype=torch.float64),\n",
    "            nn.LeakyReLU(),\n",
    "            nn.Linear(200, 100,dtype=torch.float64),\n",
    "            nn.LeakyReLU(),\n",
    "            nn.Linear(100, 50,dtype=torch.float64),\n",
    "            nn.LeakyReLU(),\n",
    "            nn.Linear(50, 7,dtype=torch.float64),\n",
    "        )\n",
    "\n",
    "    def forward(self, x):\n",
    "        x = self.fully_connected(x)\n",
    "        return x"
   ],
   "metadata": {
    "collapsed": false
   }
  },
  {
   "cell_type": "code",
   "execution_count": null,
   "outputs": [],
   "source": [
    "# training function\n",
    "import time\n",
    "import matplotlib.pyplot as plt\n",
    "from sklearn import metrics\n",
    "\n",
    "def train(net, train_loader):\n",
    "    start_time = time.perf_counter()\n",
    "    loss_function = torch.nn.CrossEntropyLoss()\n",
    "\n",
    "    optimizer = torch.optim.Adam(net.parameters(),lr=0.001, weight_decay=np.exp(-6))\n",
    "    scheduler = torch.optim.lr_scheduler.MultiStepLR(optimizer,milestones=[50,60,80,100,120,200,240],gamma=0.5)\n",
    "\n",
    "    use_cuda = torch.cuda.is_available()\n",
    "    if use_cuda:\n",
    "        net = net.cuda()\n",
    "    print(\"Training start:\")\n",
    "    epoches = 150\n",
    "    train_acc_list = []\n",
    "    eval_acc_list = []\n",
    "    train_loss_list = []\n",
    "    for epoch in range(epoches):\n",
    "\n",
    "        train_correct = 0.0\n",
    "        train_num_images = 0.0\n",
    "        eval_correct = 0.0\n",
    "        eval_num_images = 0.0\n",
    "\n",
    "        for i_batch, (images, labels) in enumerate(train_loader):\n",
    "            if use_cuda:\n",
    "                images = images.cuda()\n",
    "                labels = labels.cuda()\n",
    "            if i_batch < 7 :\n",
    "                net.train()\n",
    "                with torch.set_grad_enabled(True):\n",
    "                    f_train = net(images)\n",
    "                    loss = loss_function(f_train,labels)\n",
    "                    optimizer.zero_grad()\n",
    "                    loss.backward()\n",
    "                    optimizer.step()\n",
    "                # train accuracy:\n",
    "                _, preds = f_train.max(1)\n",
    "                train_correct += preds.eq(labels).sum().cpu().item()\n",
    "                train_num_images += len(labels)\n",
    "            else:\n",
    "                #eval time\n",
    "                net.eval()\n",
    "                with torch.no_grad():\n",
    "                    outs = net(images)\n",
    "                    _, preds = outs.max(1)\n",
    "                    eval_correct += preds.eq(labels).sum().cpu().item()\n",
    "                    eval_num_images += len(labels)\n",
    "\n",
    "        train_acc = train_correct / train_num_images\n",
    "        eval_acc = eval_correct / eval_num_images\n",
    "        train_acc_list.append(train_acc)\n",
    "        eval_acc_list.append(eval_acc)\n",
    "        train_loss_list.append(loss.item())\n",
    "        print('epoch: %d, lr: %f, accuracy: %f, loss: %f, valid accuracy: %f' % (epoch, optimizer.param_groups[0]['lr'], train_acc, loss.item(), eval_acc))\n",
    "        scheduler.step()\n",
    "    print(f\"Training time {time.perf_counter() - start_time}\")\n",
    "\n",
    "    plt.figure(figsize=(15,5))\n",
    "    plt.title(\"Training Log\")\n",
    "    plt.xlabel('epoch')\n",
    "    plt.ylabel('acc')\n",
    "    plt.plot(list(range(0,epoches)),train_acc_list,color='blue', label='train acc')\n",
    "    plt.plot(list(range(0,epoches)),eval_acc_list,color='orange', label='train acc')\n",
    "    plt.legend()\n",
    "    plt.show()\n",
    "\n",
    "    plt.figure(figsize=(15,5))\n",
    "    plt.title(\"Training Loss\")\n",
    "    plt.xlabel('loss')\n",
    "    plt.ylabel('acc')\n",
    "    plt.plot(list(range(0,epoches)),train_loss_list,color='green', label='train loss')\n",
    "    plt.legend()\n",
    "    plt.show()\n",
    "\n",
    "    return net\n",
    "\n",
    "def eval(net, eval_loader):\n",
    "    net.eval()\n",
    "    correct = 0.0\n",
    "    num_images = 0.0\n",
    "    all_preds = []\n",
    "    all_labels = []\n",
    "    use_cuda = torch.cuda.is_available()\n",
    "    if use_cuda:\n",
    "        net = net.cuda()\n",
    "    for i_batch, (images, labels) in enumerate(eval_loader):\n",
    "        if use_cuda:\n",
    "                images = images.cuda()\n",
    "                labels = labels.cuda()\n",
    "        with torch.no_grad():\n",
    "            outs = net(images)\n",
    "            _, preds = outs.max(1)\n",
    "            correct += preds.eq(labels).sum().cpu().item()\n",
    "            num_images += len(labels)\n",
    "            all_preds.extend(preds.cpu())\n",
    "            all_labels.extend(labels.cpu())\n",
    "    acc = correct / num_images\n",
    "    matrix = metrics.confusion_matrix(all_labels, all_preds)\n",
    "    return acc, all_preds, all_labels, matrix\n",
    "\n"
   ],
   "metadata": {
    "collapsed": false,
    "pycharm": {
     "name": "#%%\n"
    }
   }
  },
  {
   "cell_type": "code",
   "execution_count": null,
   "outputs": [],
   "source": [
    "net = Network(7)\n",
    "os.environ['CUDA_LAUNCH_BLOCKING'] = '1'\n",
    "net = train(net,train_loader)"
   ],
   "metadata": {
    "collapsed": false,
    "pycharm": {
     "name": "#%%\n"
    }
   }
  },
  {
   "cell_type": "code",
   "execution_count": null,
   "outputs": [],
   "source": [
    "tr_acc, tr_all_preds, tr_all_labels, tr_matrix = eval(net, train_loader)\n",
    "print(f\" Train acc = {tr_acc}\")\n",
    "te_acc, te_all_preds, te_all_labels, te_matrix = eval(net, test_loader)\n",
    "print(f\" Eval acc = {te_acc}\")"
   ],
   "metadata": {
    "collapsed": false,
    "pycharm": {
     "name": "#%%\n"
    }
   }
  },
  {
   "cell_type": "code",
   "execution_count": null,
   "outputs": [],
   "source": [
    "train_f1 = metrics.f1_score(tr_all_labels,tr_all_preds,average='macro')\n",
    "test_f1 = metrics.f1_score(te_all_labels,te_all_preds,average='macro')\n",
    "print(\"Training data F1 score = \", train_f1)\n",
    "print(\"Testing data F1 score = \", test_f1)\n",
    "\n",
    "fig, ax = plt.subplots(1, 2, figsize=(15, 5))\n",
    "ax[0].title.set_text(\"Training data confusion matrix:\")\n",
    "ev_mat_disp = metrics.ConfusionMatrixDisplay(tr_matrix)\n",
    "ev_mat_disp.plot(ax=ax[0])\n",
    "ax[1].title.set_text(\"Testing data confusion matrix:\")\n",
    "ts_mat_disp = metrics.ConfusionMatrixDisplay(te_matrix)\n",
    "ts_mat_disp.plot(ax=ax[1])\n",
    "plt.plot()"
   ],
   "metadata": {
    "collapsed": false,
    "pycharm": {
     "name": "#%%\n"
    }
   }
  },
  {
   "cell_type": "code",
   "execution_count": null,
   "outputs": [],
   "source": [],
   "metadata": {
    "collapsed": false,
    "pycharm": {
     "name": "#%%\n"
    }
   }
  },
  {
   "cell_type": "code",
   "execution_count": null,
   "outputs": [],
   "source": [],
   "metadata": {
    "collapsed": false,
    "pycharm": {
     "name": "#%%\n"
    }
   }
  },
  {
   "cell_type": "code",
   "execution_count": null,
   "outputs": [],
   "source": [],
   "metadata": {
    "collapsed": false,
    "pycharm": {
     "name": "#%%\n"
    }
   }
  },
  {
   "cell_type": "code",
   "execution_count": null,
   "outputs": [],
   "source": [],
   "metadata": {
    "collapsed": false,
    "pycharm": {
     "name": "#%%\n"
    }
   }
  },
  {
   "cell_type": "code",
   "execution_count": null,
   "outputs": [],
   "source": [],
   "metadata": {
    "collapsed": false,
    "pycharm": {
     "name": "#%%\n"
    }
   }
  },
  {
   "cell_type": "code",
   "execution_count": null,
   "outputs": [],
   "source": [],
   "metadata": {
    "collapsed": false,
    "pycharm": {
     "name": "#%%\n"
    }
   }
  },
  {
   "cell_type": "code",
   "execution_count": null,
   "outputs": [],
   "source": [
    "# aino hnmjykiuddddddddsdfryjuhccfsth hhfvbgjkijkggggggaaaaaaaaaaaaaaaaaaahhhhhhhhhhhhhhhhhhjjjjjjjjjjbbbbbbbbbbbbbggggggggffffffdddddaaaappppppppptyfhtthngtyhugyhrtl hppgs aruf kot relationships hahaha ggtggggg   ghmjkljhgffjgnnnnnnnnnnnnnmnnnnnnnnnnnnhh,kmlmkjhknkjhkliklhij;io;uui[p\n",
    "# hgfdvrelationships fjgcbhjghjgjhklsrtgfvmioopphhnnxxxxxxzzzzzzzzcccccdfghdrtyhumkdghnbxxxxxxxxxxzzzzzzzxxzzxzxzzxzxzxzxzxzxzxzxczxzxzmbzxxzxzzzxxlkjhgfdsazxvcbnmkjhgfd"
   ],
   "metadata": {
    "collapsed": false,
    "pycharm": {
     "name": "#%%\n"
    }
   }
  }
 ],
 "metadata": {
  "kernelspec": {
   "display_name": "Python 3",
   "language": "python",
   "name": "python3"
  },
  "language_info": {
   "codemirror_mode": {
    "name": "ipython",
    "version": 2
   },
   "file_extension": ".py",
   "mimetype": "text/x-python",
   "name": "python",
   "nbconvert_exporter": "python",
   "pygments_lexer": "ipython2",
   "version": "2.7.6"
  }
 },
 "nbformat": 4,
 "nbformat_minor": 0
}
